{
 "cells": [
  {
   "cell_type": "code",
   "execution_count": 1,
   "metadata": {},
   "outputs": [
    {
     "name": "stderr",
     "output_type": "stream",
     "text": [
      "D:\\Anaconda\\lib\\site-packages\\h5py\\__init__.py:36: FutureWarning: Conversion of the second argument of issubdtype from `float` to `np.floating` is deprecated. In future, it will be treated as `np.float64 == np.dtype(float).type`.\n",
      "  from ._conv import register_converters as _register_converters\n",
      "Using TensorFlow backend.\n"
     ]
    }
   ],
   "source": [
    "from keras.models import Sequential\n",
    "from keras.layers import Dense, Activation\n",
    "from keras.models import model_from_json\n",
    "from flask import Flask, redirect, url_for, request\n",
    "import numpy as np\n",
    "import pandas as pd"
   ]
  },
  {
   "cell_type": "code",
   "execution_count": 2,
   "metadata": {},
   "outputs": [
    {
     "name": "stdout",
     "output_type": "stream",
     "text": [
      "Loaded model from disk\n"
     ]
    }
   ],
   "source": [
    "    json_file = open('Prakhar_model.json', 'r')\n",
    "    loaded_model_json = json_file.read()\n",
    "    json_file.close()\n",
    "    loaded_model = model_from_json(loaded_model_json)\n",
    "    # load weights into new model\n",
    "    loaded_model.load_weights(\"Prakhar_model.h5\")\n",
    "    print(\"Loaded model from disk\")"
   ]
  },
  {
   "cell_type": "code",
   "execution_count": null,
   "metadata": {},
   "outputs": [
    {
     "name": "stderr",
     "output_type": "stream",
     "text": [
      " * Running on http://127.0.0.1:5000/ (Press CTRL+C to quit)\n",
      "127.0.0.1 - - [21/Nov/2018 02:46:20] \"\u001b[32mPOST /health HTTP/1.1\u001b[0m\" 302 -\n",
      "127.0.0.1 - - [21/Nov/2018 02:46:20] \"\u001b[37mGET /calculator/?a2=2&b2=22.0&c2=60&d2=20&e2=2&f2=1&g2=1&h2=2&i2=2&j2=1&k2=5&l2=1&m2=68&n2=1&o2=143.0 HTTP/1.1\u001b[0m\" 200 -\n",
      "127.0.0.1 - - [21/Nov/2018 02:46:20] \"\u001b[32mPOST /health HTTP/1.1\u001b[0m\" 302 -\n",
      "127.0.0.1 - - [21/Nov/2018 02:46:21] \"\u001b[37mGET /calculator/?a2=2&b2=22.0&c2=60&d2=20&e2=2&f2=1&g2=1&h2=2&i2=2&j2=1&k2=5&l2=1&m2=68&n2=1&o2=143.0 HTTP/1.1\u001b[0m\" 200 -\n",
      "127.0.0.1 - - [21/Nov/2018 02:51:43] \"\u001b[33mPOST /symptom HTTP/1.1\u001b[0m\" 404 -\n"
     ]
    }
   ],
   "source": [
    "app=Flask(__name__)\n",
    "@app.route('/calculator/')\n",
    "def calculator():\n",
    "        a3=int(request.args.get('a2'))\n",
    "        b3=float(request.args.get('b2'))\n",
    "        c3=int(request.args.get('c2'))\n",
    "        d3=int(request.args.get('d2'))\n",
    "        e3=int(request.args.get('e2'))\n",
    "        f3=int(request.args.get('f2'))\n",
    "        g3=int(request.args.get('g2'))\n",
    "        h3=int(request.args.get('h2'))\n",
    "        i3=int(request.args.get('i2'))\n",
    "        j3=int(request.args.get('j2'))\n",
    "        k3=int(request.args.get('k2'))\n",
    "        l3=int(request.args.get('l2'))\n",
    "        m3=int(request.args.get('m2'))\n",
    "        n3=int(request.args.get('n2'))\n",
    "        o3=float(request.args.get('o2'))\n",
    "        Xn=np.array([[a3,b3,c3,d3,e3,f3,g3,h3,i3,j3,k3,l3,m3,n3,o3]])\n",
    "        yn=loaded_model.predict(Xn)\n",
    "        yh=np.argmax(yn)+1\n",
    "        if yh == 1:\n",
    "              st=\"excellent\"\n",
    "        if yh == 2:\n",
    "              st=\"v good\"\n",
    "        if yh == 3:\n",
    "              st=\"good\"\n",
    "        if yh == 4:\n",
    "              st=\"fair\"\n",
    "        if yh >=5:\n",
    "              st=\"poor\"\n",
    "    \n",
    "        return 'Health Condition is %s ' % st\n",
    "@app.route('/health',methods=['POST','GET']) \n",
    "def health():\n",
    "    if request.method=='POST':\n",
    "        a1=int(request.form['a'])\n",
    "        b1=float(request.form['b'])\n",
    "        c1=int(request.form['c'])\n",
    "        d1=int(request.form['d'])\n",
    "        e1=int(request.form['e'])\n",
    "        f1=int(request.form['f'])\n",
    "        g1=int(request.form['g'])\n",
    "        h1=int(request.form['h'])\n",
    "        i1=int(request.form['i'])\n",
    "        j1=int(request.form['j'])\n",
    "        k1=int(request.form['k'])\n",
    "        l1=int(request.form['l'])\n",
    "        m1=int(request.form['m'])\n",
    "        n1=int(request.form['n'])\n",
    "        o1=float(request.form['o'])\n",
    "        return redirect(url_for('calculator',a2=a1,b2=b1,c2=c1,d2=d1,e2=e1,f2=f1,g2=g1,h2=h1,i2=i1,j2=j1,k2=k1,l2=l1,m2=m1,n2=n1,o2=o1))\n",
    "    else:\n",
    "        a1=int(request.args.get('a'))\n",
    "        b1=float(request.args.get('b'))\n",
    "        c1=int(request.args.get('c'))\n",
    "        d1=int(request.args.get('d'))\n",
    "        e1=int(request.args.get('e'))\n",
    "        f1=int(request.args.get('f'))\n",
    "        g1=int(request.args.get('g'))\n",
    "        h1=int(request.args.get('h'))\n",
    "        i1=int(request.args.get('i'))\n",
    "        j1=int(request.args.get('j'))\n",
    "        k1=int(request.args.get('k'))\n",
    "        l1=int(request.args.get('l'))\n",
    "        m1=int(request.args.get('m'))\n",
    "        n1=int(request.args.get('n'))\n",
    "        o1=float(request.args.get('o'))\n",
    "        return redirect(url_for('calculator',a2=a1,b2=b1,c2=c1,d2=d1,e2=e1,f2=f1,g2=g1,h2=h1,i2=i1,j2=j1,k2=k1,l2=l1,m2=m1,n2=n1,o2=o1))\n",
    "if __name__=='__main__':\n",
    "    app.run()"
   ]
  },
  {
   "cell_type": "code",
   "execution_count": null,
   "metadata": {},
   "outputs": [],
   "source": []
  }
 ],
 "metadata": {
  "kernelspec": {
   "display_name": "Python 3",
   "language": "python",
   "name": "python3"
  },
  "language_info": {
   "codemirror_mode": {
    "name": "ipython",
    "version": 3
   },
   "file_extension": ".py",
   "mimetype": "text/x-python",
   "name": "python",
   "nbconvert_exporter": "python",
   "pygments_lexer": "ipython3",
   "version": "3.6.5"
  }
 },
 "nbformat": 4,
 "nbformat_minor": 2
}
