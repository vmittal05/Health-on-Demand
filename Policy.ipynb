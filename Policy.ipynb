{
 "cells": [
  {
   "cell_type": "code",
   "execution_count": null,
   "metadata": {},
   "outputs": [],
   "source": [
    "from keras.models import Sequential\n",
    "from keras.layers import Dense, Activation\n",
    "from keras.models import model_from_json\n",
    "from flask import Flask, redirect, url_for, request\n",
    "import numpy as np\n",
    "import pandas as pd"
   ]
  },
  {
   "cell_type": "code",
   "execution_count": 2,
   "metadata": {},
   "outputs": [
    {
     "name": "stdout",
     "output_type": "stream",
     "text": [
      "Loaded model from disk\n",
      "                     Policy Name  Min Entry age  Max Entry Age  \\\n",
      "2   Aditya Birla Health Inurance           0.24            100   \n",
      "6      Max Bupa Health Insurance           5.00             50   \n",
      "7  IFFCO Tokio Health Insurance           12.00             70   \n",
      "8          SBI Health Insurance           18.00             65   \n",
      "\n",
      "   Min Sum Assured  Max Sum Assured  \n",
      "2            50000          1000000  \n",
      "6            50000          5000000  \n",
      "7            10000           100000  \n",
      "8            50000           500000  \n"
     ]
    }
   ],
   "source": [
    "    json_file = open('model.json', 'r')\n",
    "    loaded_model_json = json_file.read()\n",
    "    json_file.close()\n",
    "    loaded_model = model_from_json(loaded_model_json)\n",
    "    # load weights into new model\n",
    "    loaded_model.load_weights(\"model.h5\")\n",
    "    print(\"Loaded model from disk\")\n",
    "    my_df = pd.read_csv(\"Policies.csv\")\n",
    "    age=22\n",
    "    sex=0\n",
    "    bmi=22.8\n",
    "    noc=0\n",
    "    smoker=0\n",
    "    Xnew=np.array([[age,sex,bmi,noc,smoker]])\n",
    "    Ynew=loaded_model.predict(Xnew)\n",
    "    price=int(Ynew[0])\n",
    "    rupees=price/2*71.4\n",
    "    print(my_df.loc[(my_df['Min Entry age'] < age) & (my_df['Max Entry Age'] > age) & (my_df['Max Sum Assured'] > rupees) & (my_df['Min Sum Assured'] < rupees)])"
   ]
  },
  {
   "cell_type": "code",
   "execution_count": null,
   "metadata": {},
   "outputs": [
    {
     "name": "stderr",
     "output_type": "stream",
     "text": [
      " * Running on http://127.0.0.1:5000/ (Press CTRL+C to quit)\n",
      "127.0.0.1 - - [21/Nov/2018 02:59:30] \"\u001b[32mPOST /policy HTTP/1.1\u001b[0m\" 302 -\n",
      "127.0.0.1 - - [21/Nov/2018 02:59:30] \"\u001b[37mGET /estimate/?age=22&sex=1&bmi=22.8&noc=3&smoker=0 HTTP/1.1\u001b[0m\" 200 -\n"
     ]
    },
    {
     "name": "stdout",
     "output_type": "stream",
     "text": [
      "                    Policy Name  Min Entry age  Max Entry Age  \\\n",
      "0       Apollo Munich Easy plan           5.00             65   \n",
      "2  Aditya Birla Health Inurance           0.24            100   \n",
      "6     Max Bupa Health Insurance           5.00             50   \n",
      "8         SBI Health Insurance           18.00             65   \n",
      "\n",
      "   Min Sum Assured  Max Sum Assured  \n",
      "0           100000          5000000  \n",
      "2            50000          1000000  \n",
      "6            50000          5000000  \n",
      "8            50000           500000  \n"
     ]
    },
    {
     "name": "stderr",
     "output_type": "stream",
     "text": [
      "127.0.0.1 - - [21/Nov/2018 03:02:33] \"\u001b[32mPOST /policy HTTP/1.1\u001b[0m\" 302 -\n",
      "127.0.0.1 - - [21/Nov/2018 03:02:33] \"\u001b[37mGET /estimate/?age=22&sex=1&bmi=22.8&noc=3&smoker=0 HTTP/1.1\u001b[0m\" 200 -\n"
     ]
    },
    {
     "name": "stdout",
     "output_type": "stream",
     "text": [
      "                    Policy Name  Min Entry age  Max Entry Age  \\\n",
      "0       Apollo Munich Easy plan           5.00             65   \n",
      "2  Aditya Birla Health Inurance           0.24            100   \n",
      "6     Max Bupa Health Insurance           5.00             50   \n",
      "8         SBI Health Insurance           18.00             65   \n",
      "\n",
      "   Min Sum Assured  Max Sum Assured  \n",
      "0           100000          5000000  \n",
      "2            50000          1000000  \n",
      "6            50000          5000000  \n",
      "8            50000           500000  \n"
     ]
    }
   ],
   "source": [
    "app=Flask(__name__)\n",
    "@app.route('/estimate/')\n",
    "def predictpolicy():\n",
    "    age=request.args.get('age')\n",
    "    sex=request.args.get('sex')\n",
    "    bmi=request.args.get('bmi')\n",
    "    noc=request.args.get('noc')\n",
    "    smoker=request.args.get('smoker')\n",
    "    my_df = pd.read_csv(\"Policies.csv\")\n",
    "    Xnew=np.array([[age,sex,bmi,noc,smoker]])\n",
    "    Ynew=loaded_model.predict(Xnew)\n",
    "    price=int(Ynew[0])\n",
    "    rupees=price/2*71.4\n",
    "    print(my_df.loc[(my_df['Min Entry age'] < int(age)) & (my_df['Max Entry Age'] > int(age)) & (my_df['Max Sum Assured'] > float(rupees)) & (my_df['Min Sum Assured'] < float(rupees))])\n",
    "    return 'Estimated value=%f ' % rupees\n",
    "@app.route('/policy',methods=['POST','GET']) \n",
    "def policy():\n",
    "    if request.method=='POST':\n",
    "        a=request.form['age']\n",
    "        s=request.form['sex']\n",
    "        b=request.form['bmi']\n",
    "        n=request.form['noc']\n",
    "        sm=request.form['sm']\n",
    "        return redirect(url_for('predictpolicy',age=a,sex=s,bmi=b,noc=n,smoker=sm))\n",
    "    else:\n",
    "        a=request.args.get('age')\n",
    "        s=request.args.get('sex')\n",
    "        b=request.args.get('bmi')\n",
    "        n=request.args.get('noc')\n",
    "        sm=request.args.get('sm')\n",
    "        return redirect(url_for('predictpolicy',age=a,sex=s,bmi=b,noc=n,smoker=sm))\n",
    "if __name__=='__main__':\n",
    "    app.run()"
   ]
  },
  {
   "cell_type": "code",
   "execution_count": null,
   "metadata": {},
   "outputs": [],
   "source": []
  }
 ],
 "metadata": {
  "kernelspec": {
   "display_name": "Python 3",
   "language": "python",
   "name": "python3"
  },
  "language_info": {
   "codemirror_mode": {
    "name": "ipython",
    "version": 3
   },
   "file_extension": ".py",
   "mimetype": "text/x-python",
   "name": "python",
   "nbconvert_exporter": "python",
   "pygments_lexer": "ipython3",
   "version": "3.6.5"
  }
 },
 "nbformat": 4,
 "nbformat_minor": 2
}
